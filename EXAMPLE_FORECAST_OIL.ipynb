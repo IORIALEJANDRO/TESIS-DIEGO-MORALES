{
  "nbformat": 4,
  "nbformat_minor": 0,
  "metadata": {
    "colab": {
      "name": "IDO Proyecto Final.ipynb",
      "provenance": [],
      "toc_visible": true,
      "authorship_tag": "ABX9TyO4ioBUiTOuNB9ktHL6cR6s",
      "include_colab_link": true
    },
    "kernelspec": {
      "name": "python3",
      "display_name": "Python 3"
    }
  },
  "cells": [
    {
      "cell_type": "markdown",
      "metadata": {
        "id": "view-in-github",
        "colab_type": "text"
      },
      "source": [
        "<a href=\"https://colab.research.google.com/github/IORIALE/RECURSOS-IDO/blob/main/IDO_Proyecto_Final.ipynb\" target=\"_parent\"><img src=\"https://colab.research.google.com/assets/colab-badge.svg\" alt=\"Open In Colab\"/></a>"
      ]
    },
    {
      "cell_type": "markdown",
      "metadata": {
        "id": "z-KbOPGClVYX"
      },
      "source": [
        "<font color=\"Teal\" face=\"Comic Sans MS,arial\">\r\n",
        "  <h1 align=\"center\"><i>PROYECTO FINAL</i></h1>\r\n",
        "  </font>\r\n",
        "  <font color=\"Black\" face=\"Comic Sans MS,arial\">\r\n",
        "  <h5 align=\"center\"><i>Integrantes:</i></h5>\r\n",
        "    <h5 align=\"center\"><i> Almaraz Garcia Iori Alejandro N. Cuenta: 316297183</i></h5>\r\n",
        "    <h5 align=\"center\"><i>García Delgado Axel Jair  N.Cuenta:316352750</i></h5>\r\n",
        "  <h5 align=\"center\"><i>Materia: Investigación De Operaciones.</i></h5>\r\n",
        "  </font>"
      ]
    },
    {
      "cell_type": "markdown",
      "metadata": {
        "id": "hLfifHOkIYxi"
      },
      "source": [
        "<div align=\"center\"><img src=\"https://github.com/IORIALE/RECURSOS-IDO/blob/main/MODELOS%202.jpeg?raw=1\" width=\"500\" > "
      ]
    },
    {
      "cell_type": "markdown",
      "metadata": {
        "id": "vPfz2fGRl3x0"
      },
      "source": [
        "# INTRODUCCION\r\n",
        "\r\n",
        "En este proyecto se pretende dar uso de herramientas computacionales combinados con la aplicación de ciertos metodos que hemos trabajado durante el curso con casos practicos en especial nos enfocaremos en el uso  del lenguaje de programación  python  que es un lenguaje de alta Gamma para la solución de nuestros algoritmos.\r\n",
        "\r\n",
        "A lo largo del curso hemos visto sin fin de aplicaciones pero nunca los pudimos llevar a la parte computacional, es por eso que en este proyecto se da paso a la parte computacional y poder resolver algunos ejercicios con ayuda de un lenguaje poderoso.\r\n",
        "\r\n",
        "\r\n",
        "**Objetivo del Proyecto**: Conocer, manipular e interactuar con el lenguaje de programación  Python orientado a  la solución de algunos ejercicios que nos son  interesante resolver en esta materia de Investigación de Operaciones\r\n",
        "\r\n",
        "\r\n",
        "**Resultados que se pretenden obtener**: Principalmente cumplir con nuestro objetivo del proyecto  y además darle al lector herramientas computacionales buenas para la solución de problemas practicos."
      ]
    },
    {
      "cell_type": "markdown",
      "metadata": {
        "id": "ntbJkTvVJFAo"
      },
      "source": [
        "La optimización es fundamental para cualquier problema relacionado con la toma de decisiones, ya sea en ingeniería o en ciencias económicas. La tarea de tomar decisiones implica elegir entre varias alternativas. Esta opción va a estar gobernada por nuestro deseo de tomar la \"mejor\" decisión posible."
      ]
    },
    {
      "cell_type": "markdown",
      "metadata": {
        "id": "lx5i0h7h12jY"
      },
      "source": [
        "<div align=\"center\"><img src=\"https://github.com/IORIALE/RECURSOS-IDO/blob/main/optimizacion.jpeg?raw=1\" width=\"500\" > "
      ]
    },
    {
      "cell_type": "markdown",
      "metadata": {
        "id": "QBBW8RFi3B4K"
      },
      "source": [
        "#¿QUE ES INVESTIGACION DE OPERACIONES?"
      ]
    },
    {
      "cell_type": "markdown",
      "metadata": {
        "id": "ZoTvBd5v3JWE"
      },
      "source": [
        "la Investigación de Operaciones utiliza técnicas de modelamiento matemático, análisis estadístico y optimización matemática, con el objetivo de alcanzar soluciones óptimas o cercanas a ellas cuando se enfrentan problemas de decisión complejos. Se espera que las decisiones alcanzadas mediante el uso de un modelo de investigación operativa sean significativamente mejores en comparación a aquellas decisiones que se podrían tomar haciendo uso de la simple intuición o experiencia del tomador de decisiones."
      ]
    },
    {
      "cell_type": "markdown",
      "metadata": {
        "id": "A2RvBxxlHtk1"
      },
      "source": [
        "<div align=\"center\"><img src=\"https://github.com/IORIALE/RECURSOS-IDO/blob/main/MODELOS%20IDO.jpeg?raw=1\" width=\"400\"> "
      ]
    },
    {
      "cell_type": "markdown",
      "metadata": {
        "id": "_tw7Frx2IMay"
      },
      "source": [
        "#¿POR QUÉ EN PYTHON?"
      ]
    },
    {
      "cell_type": "markdown",
      "metadata": {
        "id": "zPhQe0CHIWaI"
      },
      "source": [
        "el ecosistema científico de Python podemos encontrar varias librerías que nos van a ayudar a enfrentar los problemas de optimización, entre las que podemos destacar:\r\n",
        "\r\n",
        "***scipy.optimize:*** Este es el módulo de optimización de SciPy, en el cual vamos a poder encontrar varias rutinas numéricas para resolver problemas no lineales de optimización.\r\n",
        "\r\n",
        "***CVXopt:*** Esta es una librería con una interface amigable para resolver problemas de optimización convexa.\r\n",
        "\r\n",
        "***PuLP:*** Esta librería nos proporciona un lenguaje para modelar y resolver problemas de optimización utilizando programación lineal.\r\n",
        "\r\n",
        "\r\n",
        "***Pyomo:*** Esta librería también nos va a proporcionar un lenguaje para modelar problemas de optimización en Python. Tiene una notación similar a la que utilizaríamos en la definición matemática de los problemas.\r\n",
        "\r\n",
        "Debemos destacar que tanto PuLP como Pyomo requieren la instalación adicional de diferentes solvers para poder resolver los problemas de optimización. Algunos de los solvers que soportan son: GLPK, COIN CLP/CBC, CPLEX y GURUBI, entre otros."
      ]
    },
    {
      "cell_type": "markdown",
      "metadata": {
        "id": "Kl3DMbCZLa_L"
      },
      "source": [
        "#APLICACIONES"
      ]
    },
    {
      "cell_type": "markdown",
      "metadata": {
        "id": "DFRcXIGcLlqy"
      },
      "source": [
        "Para comenzar esta parte de nuestro proyecto es importante que el lector comprenda la importancia que es llevar algoritmos computacionales a este tipo de procesos ya que consideramos que al resolver problemas de manera computacional es muchisimo más 'optimo' y más eficiente que tener que resolverlos a mano.\r\n",
        "\r\n",
        "Por otro  lado, al tener muchas veces las herramientas computacionales no nos damos cuenta del proceso que hay detras de ese algoritmo y es por eso que pedimos al lector tener presentes y frescos  sus conocimientos  adquiridos en la materia de Investigación de Operaciones.\r\n"
      ]
    },
    {
      "cell_type": "markdown",
      "metadata": {
        "id": "5E_K-U_FNSIX"
      },
      "source": [
        "##PROBLEMA RUTA MAS CORTA(Dijkstra)\r\n",
        "\r\n",
        "Uno de los problemas que nos llamo mucho la atención el ver como se hacia en python era referente al algoritmo de Dijkstra orientado a simular las estaciones del metro de la CDMX.\r\n",
        "\r\n",
        "\r\n",
        " Esto nos llamo la atención ya que hace no mucho tiempo, algunas lineas del metro dejaron de funcionar lo que provoco que  grandes masas de gente dejaran  de trasladarse en metro.\r\n",
        "\r\n",
        "\r\n",
        " Lo que queremos es encontrar la ruta más corta entre las estaciones del metro.\r\n",
        "\r\n",
        " Usualmente lo que hariamos es ir a consultar la red del metro y trazar una ruta sin embargo esta no es necesariamente la más corta."
      ]
    },
    {
      "cell_type": "markdown",
      "metadata": {
        "id": "nF2NjwA8OVKf"
      },
      "source": [
        "**NOTA:**\r\n",
        "El algoritmo de Dijkstra, también llamado algoritmo de caminos mínimos, es un algoritmo para la determinación del camino más corto, dado un vértice origen, hacia el resto de los vértices en un grafo que tiene pesos en cada arista."
      ]
    },
    {
      "cell_type": "markdown",
      "metadata": {
        "id": "7pYvRhNFPMXF"
      },
      "source": [
        "<div align=\"center\"><img src=\"https://github.com/IORIALE/RECURSOS-IDO/blob/main/redmetro.png?raw=1\" width=\"500\" > "
      ]
    },
    {
      "cell_type": "markdown",
      "metadata": {
        "id": "ebjG51fbPdff"
      },
      "source": [
        "Para esto, vamos a considerar a cada estación como si fuese un vertice de nuestra grafica y  agregaremos una lista si las estaciones estan conectadas o se cruzan.\r\n",
        "\r\n",
        "\r\n",
        "CONCEPTO IMPORTANTE:\r\n",
        "\r\n",
        "**Vecindad:** Son todos los vertices que son adyacentes a este , es decir, que existe una arista que los une.\r\n",
        "\r\n",
        "\r\n",
        "Cada arista o estación tendra asociado un peso.\r\n",
        "\r\n",
        "Este peso representa la distancia que hay entre las estaciones.\r\n",
        "\r\n",
        "\r\n",
        "Necesitamos encontrar la ruta más corta o el camino de peso minimo, es decir, de menor distancia\r\n",
        "\r\n"
      ]
    },
    {
      "cell_type": "markdown",
      "metadata": {
        "id": "yLohI_JNRURp"
      },
      "source": [
        "PARA SABER CUAL ES LA DISTANCIA DE CADA ESTACIÓN DEL METRO DE LA CDMX ES DE GRAN UTILIDAD EL SIGUIENTE LINK:\r\n",
        "\r\n",
        "https://metro.cdmx.gob.mx/longitud-de-estacion"
      ]
    },
    {
      "cell_type": "markdown",
      "metadata": {
        "id": "flRa1jHTsw9G"
      },
      "source": [
        "**NOTA: PARA ASEGURAR QUE CORRA BIEN TODO EL PROCESO ES RECOMENDABLE CORRER REACUADRO POR RECUADRO O EN SU DEFECTO LINEA POR LINEA**"
      ]
    },
    {
      "cell_type": "markdown",
      "metadata": {
        "id": "OxhP3VDtPS_N"
      },
      "source": [
        "###SOLUCION"
      ]
    },
    {
      "cell_type": "markdown",
      "metadata": {
        "id": "Pxzh3ClORqWP"
      },
      "source": [
        "Convertiremos cada longitud en un dataframe(tabla)"
      ]
    },
    {
      "cell_type": "code",
      "metadata": {
        "id": "YvOpI_AsPVSP"
      },
      "source": [
        "import pandas as pd  ##para hacer nuestras tablas\r\n",
        "import numpy as np    ## para hacer nuestros arreglos\r\n",
        "import networkx as nx  ## para simular el diagrama\r\n"
      ],
      "execution_count": null,
      "outputs": []
    },
    {
      "cell_type": "code",
      "metadata": {
        "colab": {
          "base_uri": "https://localhost:8080/",
          "height": 206
        },
        "id": "h6I0FDhCSbXx",
        "outputId": "596c602a-85eb-4334-cc84-addad1032580"
      },
      "source": [
        "##Importamos los datos del dataframe\r\n",
        "## importamos nuestra base de datos del metro\r\n",
        "url='https://raw.githubusercontent.com/IORIALE/RECURSOS-IDO/main/metro.csv'\r\n",
        "\r\n",
        "df = pd.read_csv(url)\r\n",
        "\r\n",
        "## imprimimos para ver si se importaron correctamente\r\n",
        "## head solo te imprime los primeros 6 valores de tu tabla\r\n",
        "df.head()\r\n"
      ],
      "execution_count": null,
      "outputs": [
        {
          "output_type": "execute_result",
          "data": {
            "text/html": [
              "<div>\n",
              "<style scoped>\n",
              "    .dataframe tbody tr th:only-of-type {\n",
              "        vertical-align: middle;\n",
              "    }\n",
              "\n",
              "    .dataframe tbody tr th {\n",
              "        vertical-align: top;\n",
              "    }\n",
              "\n",
              "    .dataframe thead th {\n",
              "        text-align: right;\n",
              "    }\n",
              "</style>\n",
              "<table border=\"1\" class=\"dataframe\">\n",
              "  <thead>\n",
              "    <tr style=\"text-align: right;\">\n",
              "      <th></th>\n",
              "      <th>Origen</th>\n",
              "      <th>Destino</th>\n",
              "      <th>Longitud de interestación</th>\n",
              "    </tr>\n",
              "  </thead>\n",
              "  <tbody>\n",
              "    <tr>\n",
              "      <th>0</th>\n",
              "      <td>Pantitlán</td>\n",
              "      <td>Zaragoza</td>\n",
              "      <td>1320</td>\n",
              "    </tr>\n",
              "    <tr>\n",
              "      <th>1</th>\n",
              "      <td>Zaragoza</td>\n",
              "      <td>Gómez Farías</td>\n",
              "      <td>762</td>\n",
              "    </tr>\n",
              "    <tr>\n",
              "      <th>2</th>\n",
              "      <td>Gómez Farías</td>\n",
              "      <td>Boulevard Puerto Aéreo</td>\n",
              "      <td>611</td>\n",
              "    </tr>\n",
              "    <tr>\n",
              "      <th>3</th>\n",
              "      <td>Boulevard Puerto Aéreo</td>\n",
              "      <td>Balbuena</td>\n",
              "      <td>595</td>\n",
              "    </tr>\n",
              "    <tr>\n",
              "      <th>4</th>\n",
              "      <td>Balbuena</td>\n",
              "      <td>Moctezuma</td>\n",
              "      <td>703</td>\n",
              "    </tr>\n",
              "  </tbody>\n",
              "</table>\n",
              "</div>"
            ],
            "text/plain": [
              "                   Origen                 Destino  Longitud de interestación\n",
              "0               Pantitlán                Zaragoza                       1320\n",
              "1                Zaragoza            Gómez Farías                        762\n",
              "2            Gómez Farías  Boulevard Puerto Aéreo                        611\n",
              "3  Boulevard Puerto Aéreo                Balbuena                        595\n",
              "4                Balbuena               Moctezuma                        703"
            ]
          },
          "metadata": {
            "tags": []
          },
          "execution_count": 2
        }
      ]
    },
    {
      "cell_type": "code",
      "metadata": {
        "id": "ZQIXCdwtaOzx"
      },
      "source": [
        "## creamos la grafica a partir de los datos de nuestra tabla=dataframe\r\n",
        "##esto lo hacemos con la libreria llamada Networkx\r\n",
        "Metro = nx.from_pandas_edgelist(df,source='Origen',target='Destino',edge_attr='Longitud de interestación')\r\n"
      ],
      "execution_count": null,
      "outputs": []
    },
    {
      "cell_type": "code",
      "metadata": {
        "colab": {
          "base_uri": "https://localhost:8080/"
        },
        "id": "oB_lVdIkapP2",
        "outputId": "508154dd-27e4-4730-bb55-91fa5cfd7a7d"
      },
      "source": [
        "##Imprimimos los nodos o vertices de nuestra grafica\r\n",
        "\r\n",
        "Metro.nodes()\r\n",
        "\r\n",
        "## como resultado nos tiene que dar los nombres de las estaciones\r\n"
      ],
      "execution_count": null,
      "outputs": [
        {
          "output_type": "execute_result",
          "data": {
            "text/plain": [
              "NodeView(('Pantitlán', 'Zaragoza', 'Gómez Farías', 'Boulevard Puerto Aéreo', 'Balbuena', 'Moctezuma', 'San Lázaro', 'Candelaria', 'Merced', 'Pino Suárez', 'Isabel la Católica', 'Salto del Agua', 'Balderas', 'Cuauhtémoc', 'Insurgentes', 'Sevilla', 'Chapultepec', 'Juanacatlán', 'Tacubaya', 'Observatorio', 'Cuatro Caminos', 'Panteones', 'Tacuba', 'Cuitláhuac', 'Popotla', 'Colegio Militar', 'Normal', 'San Cosme', 'Revolución', 'Hidalgo', 'Bellas Artes', 'Allende', 'Zócalo', 'San Antonio Abad', 'Chabacano', 'Viaducto', 'Xola', 'Villa de Cortés', 'Nativitas', 'Portales', 'Ermita', 'General Anaya', 'Tasqueña', 'Indios Verdes', 'Deportivo 18 de Marzo', 'Potrero', 'La Raza', 'Tlatelolco', 'Guerrero', 'Juárez', 'Niños Héroes', 'Hospital General', 'Centro Médico', 'Etiopía/Plaza de la Transparencia', 'Eugenia', 'División del Norte', 'Zapata', 'Coyoacán', 'Viveros/Derechos Humanos', 'Miguel Ángel de Quevedo', 'Copilco', 'Universidad', 'Santa Anita', 'Jamaica', 'Fray Servando', 'Morelos', 'Canal del Norte', 'Consulado', 'Bondojito', 'Talismán', 'Martín Carrera', 'Politécnico', 'Instituto del Petróleo', 'Autobuses del Norte', 'Misterios', 'Valle Gómez', 'Eduardo Molina', 'Aragón', 'Oceanía', 'Terminal Aérea', 'Hangares', 'El Rosario', 'Tezozómoc', 'Azcapotzalco', 'Ferrería', 'Norte 45', 'Vallejo', 'Lindavista', 'La Villa – Basílica', 'Aquíles Serdán', 'Camarones', 'Refinería', 'San Joaquín', 'Polanco', 'Auditorio', 'Constituyentes', 'San Pedro de los Pinos', 'San Antonio', 'Mixcoac', 'Barranca del Muerto', 'Garibaldi', 'San Juan de Letrán', 'Doctores', 'Obrera', 'La Viga', 'Coyuya', 'Iztacalco', 'Apatlaco', 'Aculco', 'Escuadrón 201', 'Atlalilco', 'Iztapalapa', 'Cerro de la Estrella', 'UAM I', 'Constitución de 1917', 'Puebla', 'Ciudad Deportiva', 'Velódromo', 'Mixiuhca', 'Lázaro Cardenas', 'Chilpancingo', 'Patriotismo', 'Agrícola Oriental', 'Canal de San Juan', 'Tepalcates', 'Guelatao', 'Peñón Viejo', 'Acatitla', 'Santa Marta', 'Los Reyes', 'La Paz', 'Ciudad Azteca', 'Plaza Aragón', 'Olímpica', 'Ecatepec', 'Múzquiz', 'Río de los Remedios', 'Impulsora', 'Nezahualcóyotl', 'Villa de Aragón', 'Bosques de Aragón', 'Deportivo Oceanía', 'Romero Rubio', 'Ricardo Flores Magón', 'Tepito', 'Lagunilla', 'Buenavista', 'Tláhuac', 'Tlaltenco', 'Zapotitlán', 'Nopalera', 'Olivos', 'Tezonco', 'Periférico Oriente', 'Calle 11', 'Lomas Estrella', 'San Andrés Tomatlán', 'Culhuacán', 'Mexicaltzingo', 'Eje Central', 'Parque de los Venados', 'Hospital 20 de Noviembre', 'Insurgentes Sur'))"
            ]
          },
          "metadata": {
            "tags": []
          },
          "execution_count": 5
        }
      ]
    },
    {
      "cell_type": "code",
      "metadata": {
        "colab": {
          "base_uri": "https://localhost:8080/"
        },
        "id": "qPKd6UvAbGtL",
        "outputId": "fcd35f48-19d2-4eb7-b872-106c35ff36fd"
      },
      "source": [
        "##Ahora imprimimos las aristas de nuestas graficas del metro\r\n",
        "\r\n",
        "Metro.edges()\r\n",
        "\r\n",
        "##Cada arista esta compuesto por un par de cada una de las estaciones\r\n",
        "## osea son los tramos entre estaciones"
      ],
      "execution_count": null,
      "outputs": [
        {
          "output_type": "execute_result",
          "data": {
            "text/plain": [
              "EdgeView([('Pantitlán', 'Zaragoza'), ('Pantitlán', 'Hangares'), ('Pantitlán', 'Puebla'), ('Pantitlán', 'Agrícola Oriental'), ('Zaragoza', 'Gómez Farías'), ('Gómez Farías', 'Boulevard Puerto Aéreo'), ('Boulevard Puerto Aéreo', 'Balbuena'), ('Balbuena', 'Moctezuma'), ('Moctezuma', 'San Lázaro'), ('San Lázaro', 'Candelaria'), ('San Lázaro', 'Ricardo Flores Magón'), ('San Lázaro', 'Morelos'), ('Candelaria', 'Merced'), ('Candelaria', 'Fray Servando'), ('Candelaria', 'Morelos'), ('Merced', 'Pino Suárez'), ('Pino Suárez', 'Isabel la Católica'), ('Pino Suárez', 'Zócalo'), ('Pino Suárez', 'San Antonio Abad'), ('Isabel la Católica', 'Salto del Agua'), ('Salto del Agua', 'Balderas'), ('Salto del Agua', 'San Juan de Letrán'), ('Salto del Agua', 'Doctores'), ('Balderas', 'Cuauhtémoc'), ('Balderas', 'Juárez'), ('Balderas', 'Niños Héroes'), ('Cuauhtémoc', 'Insurgentes'), ('Insurgentes', 'Sevilla'), ('Sevilla', 'Chapultepec'), ('Chapultepec', 'Juanacatlán'), ('Juanacatlán', 'Tacubaya'), ('Tacubaya', 'Observatorio'), ('Tacubaya', 'Constituyentes'), ('Tacubaya', 'San Pedro de los Pinos'), ('Tacubaya', 'Patriotismo'), ('Cuatro Caminos', 'Panteones'), ('Panteones', 'Tacuba'), ('Tacuba', 'Cuitláhuac'), ('Tacuba', 'Refinería'), ('Tacuba', 'San Joaquín'), ('Cuitláhuac', 'Popotla'), ('Popotla', 'Colegio Militar'), ('Colegio Militar', 'Normal'), ('Normal', 'San Cosme'), ('San Cosme', 'Revolución'), ('Revolución', 'Hidalgo'), ('Hidalgo', 'Bellas Artes'), ('Hidalgo', 'Guerrero'), ('Hidalgo', 'Juárez'), ('Bellas Artes', 'Allende'), ('Bellas Artes', 'Garibaldi'), ('Bellas Artes', 'San Juan de Letrán'), ('Allende', 'Zócalo'), ('San Antonio Abad', 'Chabacano'), ('Chabacano', 'Viaducto'), ('Chabacano', 'Obrera'), ('Chabacano', 'La Viga'), ('Chabacano', 'Jamaica'), ('Chabacano', 'Lázaro Cardenas'), ('Viaducto', 'Xola'), ('Xola', 'Villa de Cortés'), ('Villa de Cortés', 'Nativitas'), ('Nativitas', 'Portales'), ('Portales', 'Ermita'), ('Ermita', 'General Anaya'), ('Ermita', 'Mexicaltzingo'), ('Ermita', 'Eje Central'), ('General Anaya', 'Tasqueña'), ('Indios Verdes', 'Deportivo 18 de Marzo'), ('Deportivo 18 de Marzo', 'Potrero'), ('Deportivo 18 de Marzo', 'Lindavista'), ('Deportivo 18 de Marzo', 'La Villa – Basílica'), ('Potrero', 'La Raza'), ('La Raza', 'Tlatelolco'), ('La Raza', 'Autobuses del Norte'), ('La Raza', 'Misterios'), ('Tlatelolco', 'Guerrero'), ('Guerrero', 'Garibaldi'), ('Guerrero', 'Buenavista'), ('Niños Héroes', 'Hospital General'), ('Hospital General', 'Centro Médico'), ('Centro Médico', 'Etiopía/Plaza de la Transparencia'), ('Centro Médico', 'Lázaro Cardenas'), ('Centro Médico', 'Chilpancingo'), ('Etiopía/Plaza de la Transparencia', 'Eugenia'), ('Eugenia', 'División del Norte'), ('División del Norte', 'Zapata'), ('Zapata', 'Coyoacán'), ('Zapata', 'Parque de los Venados'), ('Zapata', 'Hospital 20 de Noviembre'), ('Coyoacán', 'Viveros/Derechos Humanos'), ('Viveros/Derechos Humanos', 'Miguel Ángel de Quevedo'), ('Miguel Ángel de Quevedo', 'Copilco'), ('Copilco', 'Universidad'), ('Santa Anita', 'Jamaica'), ('Santa Anita', 'La Viga'), ('Santa Anita', 'Coyuya'), ('Jamaica', 'Fray Servando'), ('Jamaica', 'Mixiuhca'), ('Morelos', 'Canal del Norte'), ('Morelos', 'Tepito'), ('Canal del Norte', 'Consulado'), ('Consulado', 'Bondojito'), ('Consulado', 'Valle Gómez'), ('Consulado', 'Eduardo Molina'), ('Bondojito', 'Talismán'), ('Talismán', 'Martín Carrera'), ('Martín Carrera', 'La Villa – Basílica'), ('Politécnico', 'Instituto del Petróleo'), ('Instituto del Petróleo', 'Autobuses del Norte'), ('Instituto del Petróleo', 'Vallejo'), ('Instituto del Petróleo', 'Lindavista'), ('Misterios', 'Valle Gómez'), ('Eduardo Molina', 'Aragón'), ('Aragón', 'Oceanía'), ('Oceanía', 'Terminal Aérea'), ('Oceanía', 'Deportivo Oceanía'), ('Oceanía', 'Romero Rubio'), ('Terminal Aérea', 'Hangares'), ('El Rosario', 'Tezozómoc'), ('El Rosario', 'Aquíles Serdán'), ('Tezozómoc', 'Azcapotzalco'), ('Azcapotzalco', 'Ferrería'), ('Ferrería', 'Norte 45'), ('Norte 45', 'Vallejo'), ('Aquíles Serdán', 'Camarones'), ('Camarones', 'Refinería'), ('San Joaquín', 'Polanco'), ('Polanco', 'Auditorio'), ('Auditorio', 'Constituyentes'), ('San Pedro de los Pinos', 'San Antonio'), ('San Antonio', 'Mixcoac'), ('Mixcoac', 'Barranca del Muerto'), ('Mixcoac', 'Insurgentes Sur'), ('Garibaldi', 'Lagunilla'), ('Doctores', 'Obrera'), ('Coyuya', 'Iztacalco'), ('Iztacalco', 'Apatlaco'), ('Apatlaco', 'Aculco'), ('Aculco', 'Escuadrón 201'), ('Escuadrón 201', 'Atlalilco'), ('Atlalilco', 'Iztapalapa'), ('Atlalilco', 'Culhuacán'), ('Atlalilco', 'Mexicaltzingo'), ('Iztapalapa', 'Cerro de la Estrella'), ('Cerro de la Estrella', 'UAM I'), ('UAM I', 'Constitución de 1917'), ('Puebla', 'Ciudad Deportiva'), ('Ciudad Deportiva', 'Velódromo'), ('Velódromo', 'Mixiuhca'), ('Chilpancingo', 'Patriotismo'), ('Agrícola Oriental', 'Canal de San Juan'), ('Canal de San Juan', 'Tepalcates'), ('Tepalcates', 'Guelatao'), ('Guelatao', 'Peñón Viejo'), ('Peñón Viejo', 'Acatitla'), ('Acatitla', 'Santa Marta'), ('Santa Marta', 'Los Reyes'), ('Los Reyes', 'La Paz'), ('Ciudad Azteca', 'Plaza Aragón'), ('Plaza Aragón', 'Olímpica'), ('Olímpica', 'Ecatepec'), ('Ecatepec', 'Múzquiz'), ('Múzquiz', 'Río de los Remedios'), ('Río de los Remedios', 'Impulsora'), ('Impulsora', 'Nezahualcóyotl'), ('Nezahualcóyotl', 'Villa de Aragón'), ('Villa de Aragón', 'Bosques de Aragón'), ('Bosques de Aragón', 'Deportivo Oceanía'), ('Romero Rubio', 'Ricardo Flores Magón'), ('Tepito', 'Lagunilla'), ('Tláhuac', 'Tlaltenco'), ('Tlaltenco', 'Zapotitlán'), ('Zapotitlán', 'Nopalera'), ('Nopalera', 'Olivos'), ('Olivos', 'Tezonco'), ('Tezonco', 'Periférico Oriente'), ('Periférico Oriente', 'Calle 11'), ('Calle 11', 'Lomas Estrella'), ('Lomas Estrella', 'San Andrés Tomatlán'), ('San Andrés Tomatlán', 'Culhuacán'), ('Eje Central', 'Parque de los Venados'), ('Hospital 20 de Noviembre', 'Insurgentes Sur')])"
            ]
          },
          "metadata": {
            "tags": []
          },
          "execution_count": 7
        }
      ]
    },
    {
      "cell_type": "code",
      "metadata": {
        "colab": {
          "base_uri": "https://localhost:8080/"
        },
        "id": "_gyzhz-rbcPZ",
        "outputId": "621abf9a-e66d-4e2b-aea6-bb5a99add181"
      },
      "source": [
        "## vemos cuantas estaciones hay\r\n",
        "\r\n",
        "Metro.order()\r\n",
        "\r\n",
        "## Que es la cantidad de vertices"
      ],
      "execution_count": null,
      "outputs": [
        {
          "output_type": "execute_result",
          "data": {
            "text/plain": [
              "163"
            ]
          },
          "metadata": {
            "tags": []
          },
          "execution_count": 8
        }
      ]
    },
    {
      "cell_type": "code",
      "metadata": {
        "colab": {
          "base_uri": "https://localhost:8080/"
        },
        "id": "4r5PRXJqbw4e",
        "outputId": "fe257c7c-e494-4429-be40-cbf470c6ebe8"
      },
      "source": [
        "##se supone que en la información del metro nos marca que hay \r\n",
        "## 195 estaciones\r\n",
        "##pero hay estaciones que pertenecen a más de una linea del metro\r\n",
        "\r\n",
        "\r\n",
        "\r\n",
        "\r\n",
        "\r\n",
        "\r\n",
        "## veamos cuales estaciones  pertenencen a más de una linea\r\n",
        "\r\n",
        "print('Estas son las estaciones que pertenecen a más de una linea:')\r\n",
        "\r\n",
        "for compartir_linea in Metro.nodes():\r\n",
        "  if Metro.degree(compartir_linea)>2: ## vamos a imprimir las estaciones solo si pertenecen a más de dos lineas\r\n",
        "    print(compartir_linea)\r\n"
      ],
      "execution_count": null,
      "outputs": [
        {
          "output_type": "stream",
          "text": [
            "Estas son las estaciones que pertenecen a más de una linea:\n",
            "Pantitlán\n",
            "San Lázaro\n",
            "Candelaria\n",
            "Pino Suárez\n",
            "Salto del Agua\n",
            "Balderas\n",
            "Tacubaya\n",
            "Tacuba\n",
            "Hidalgo\n",
            "Bellas Artes\n",
            "Chabacano\n",
            "Ermita\n",
            "Deportivo 18 de Marzo\n",
            "La Raza\n",
            "Guerrero\n",
            "Centro Médico\n",
            "Zapata\n",
            "Santa Anita\n",
            "Jamaica\n",
            "Morelos\n",
            "Consulado\n",
            "Instituto del Petróleo\n",
            "Oceanía\n",
            "Mixcoac\n",
            "Garibaldi\n",
            "Atlalilco\n"
          ],
          "name": "stdout"
        }
      ]
    },
    {
      "cell_type": "markdown",
      "metadata": {
        "id": "-N5i6QR1hFQS"
      },
      "source": [
        "**PARA IMPLEMENTAR EL ALGORITMO DE DIJKSTRA**\r\n",
        "\r\n",
        "**LLAMAMOS A LA FUNCIÓN DEFINIDA EN PYTHON**\r\n",
        "\r\n",
        "le damos de comer la grafica del Metro\r\n",
        "\r\n",
        "**Source:** desde donde queremos ir(origen)\r\n",
        "\r\n",
        "**target:** A donde queremos llegar (destino)\r\n",
        "\r\n",
        "**weight:** En este Caso los pesos  seran las longitudes de las interestaciones\r\n",
        "\r\n"
      ]
    },
    {
      "cell_type": "markdown",
      "metadata": {
        "id": "mdWTPmt2hWfa"
      },
      "source": [
        "**EJEMPLO 1:**\r\n",
        "\r\n",
        "Queremos ir de Balbuena hasta universidad"
      ]
    },
    {
      "cell_type": "code",
      "metadata": {
        "colab": {
          "base_uri": "https://localhost:8080/"
        },
        "id": "XlrgO06lgLBM",
        "outputId": "7a4f7001-a3c8-44a2-ad66-95b9dbb9b4b5"
      },
      "source": [
        "##PARA IMPLEMENTAR EL ALGORITMO DE DIJKSTRA\r\n",
        "##LLAMAMOS A LA FUNCIÓN DEFINIDA EN PYTHON\r\n",
        "\r\n",
        "## le damos de comer la grafica del Metro\r\n",
        "##Source: desde donde queremos ir(origen)\r\n",
        "##target: A donde queremos llegar (destino)\r\n",
        "## weight: En este Caso los pesos  seran las longitudes de las interestaciones\r\n",
        "\r\n",
        "\r\n",
        "djk_path= nx.dijkstra_path(Metro, source='Balbuena', target='Universidad', weight='Longitud de interestación')\r\n",
        "\r\n",
        "## imprimimos la ruta más corta  \r\n",
        "print(f'Tu ruta más corta será:',djk_path)\r\n",
        "\r\n",
        "## imprimimos las estaciones recorridas\r\n",
        "\r\n",
        "estaciones_recorridas=len(djk_path)\r\n",
        "print(f'Total de estaciones recorridas son:',estaciones_recorridas )\r\n",
        "\r\n",
        "\r\n",
        "## imprimimos la distancia recorrida\r\n",
        "\r\n",
        "distancia_recorrida=nx.dijkstra_path_length(Metro, 'Balbuena', 'Universidad', 'Longitud de interestación')\r\n",
        "\r\n",
        "print(f'La distancia recorrida fue:', distancia_recorrida,'metros')"
      ],
      "execution_count": null,
      "outputs": [
        {
          "output_type": "stream",
          "text": [
            "Tu ruta más corta será: ['Balbuena', 'Moctezuma', 'San Lázaro', 'Candelaria', 'Merced', 'Pino Suárez', 'Isabel la Católica', 'Salto del Agua', 'Balderas', 'Niños Héroes', 'Hospital General', 'Centro Médico', 'Etiopía/Plaza de la Transparencia', 'Eugenia', 'División del Norte', 'Zapata', 'Coyoacán', 'Viveros/Derechos Humanos', 'Miguel Ángel de Quevedo', 'Copilco', 'Universidad']\n",
            "Total de estaciones recorridas son: 21\n",
            "La distancia recorrida fue: 15716 metros\n"
          ],
          "name": "stdout"
        }
      ]
    },
    {
      "cell_type": "markdown",
      "metadata": {
        "id": "2HeZUbCmh3p1"
      },
      "source": [
        "EXPLICACION DEL EJEMPLO 1:\r\n",
        "\r\n",
        "Osea que para ir de balbuena hasta universidad con la ruta más corta  tendremos que recorrer 21 estaciones en el orden en que se indican y en total la distancia recorrida fue de 15716 metros  "
      ]
    },
    {
      "cell_type": "markdown",
      "metadata": {
        "id": "6tMts1txjce0"
      },
      "source": [
        "**EJEMPLO 2:**\r\n",
        "\r\n",
        "Ahora queremos ir de Tasqueña a Universidad"
      ]
    },
    {
      "cell_type": "code",
      "metadata": {
        "colab": {
          "base_uri": "https://localhost:8080/"
        },
        "id": "like83MJjpH2",
        "outputId": "8ed6c526-9084-47cd-921a-5fe622519280"
      },
      "source": [
        "djk_path= nx.dijkstra_path(Metro, source='Tasqueña', target='Universidad', weight='Longitud de interestación')\r\n",
        "\r\n",
        "## imprimimos la ruta más corta  \r\n",
        "print(f'Tu ruta más corta será:',djk_path)\r\n",
        "\r\n",
        "## imprimimos las estaciones recorridas\r\n",
        "\r\n",
        "estaciones_recorridas=len(djk_path)\r\n",
        "print(f'Total de estaciones recorridas son:',estaciones_recorridas )\r\n",
        "\r\n",
        "\r\n",
        "## imprimimos la distancia recorrida\r\n",
        "\r\n",
        "distancia_recorrida=nx.dijkstra_path_length(Metro, 'Tasqueña', 'Universidad', 'Longitud de interestación')\r\n",
        "\r\n",
        "print(f'La distancia recorrida  de  Taxqueña a Universidad fue:', distancia_recorrida,'metros')"
      ],
      "execution_count": null,
      "outputs": [
        {
          "output_type": "stream",
          "text": [
            "Tu ruta más corta será: ['Tasqueña', 'General Anaya', 'Ermita', 'Eje Central', 'Parque de los Venados', 'Zapata', 'Coyoacán', 'Viveros/Derechos Humanos', 'Miguel Ángel de Quevedo', 'Copilco', 'Universidad']\n",
            "Total de estaciones recorridas son: 11\n",
            "La distancia recorrida  de  Taxqueña a Universidad fue: 10392 metros\n"
          ],
          "name": "stdout"
        }
      ]
    },
    {
      "cell_type": "markdown",
      "metadata": {
        "id": "XAzJxumKkb89"
      },
      "source": [
        "**EJEMPLO GENERAL**\r\n",
        "\r\n",
        "Ahora lo haremos para que el usuario nos pase un par de estaciones.\r\n",
        "\r\n",
        "Podemos elegir las estaciones que nosotros queramos.\r\n"
      ]
    },
    {
      "cell_type": "code",
      "metadata": {
        "colab": {
          "base_uri": "https://localhost:8080/"
        },
        "id": "0O7zdJRAld10",
        "outputId": "afdf7314-1a50-48f4-8f5e-fdd057528817"
      },
      "source": [
        "print('Introduce con acentos correctos e iniciando con mayuscula.....')\r\n",
        "print('Ejemplo:  Tasqueña, Universidad,Copilco,Coyoacán,Ermita... etc \\n')\r\n",
        "origen_usuario=input(\"Introduce desde donde quieres  empezar (Recuerda los acentos y Mayuscula al Inicio) \\n\")\r\n",
        "destino_usuario=input('Introduce a que estación quieres llegar (Recuerda los acentos y Mayuscula al Inicio) \\n')\r\n",
        "\r\n",
        "##aplicamos un condicional , ya que las estaciones que nos pase el usuario tienen que estar \r\n",
        "## dentro de nuestras estaciones\r\n",
        "djk_path= nx.dijkstra_path(Metro, source=origen_usuario , target=destino_usuario, weight='Longitud de interestación')\r\n",
        "## imprimimos la ruta más corta  \r\n",
        "print(f'Tu ruta más corta será:',djk_path)\r\n",
        "## imprimimos las estaciones recorridas\r\n",
        "estaciones_recorridas=len(djk_path)\r\n",
        "print(f'Total de estaciones recorridas son:',estaciones_recorridas )\r\n",
        "## imprimimos la distancia recorrida\r\n",
        "distancia_recorrida=nx.dijkstra_path_length(Metro, origen_usuario, destino_usuario, 'Longitud de interestación')\r\n",
        "print(f'La distancia recorrida  de', origen_usuario, 'a', destino_usuario, 'fue:', distancia_recorrida,'metros')\r\n"
      ],
      "execution_count": null,
      "outputs": [
        {
          "output_type": "stream",
          "text": [
            "Introduce con acentos correctos e iniciando con mayuscula.....\n",
            "Ejemplo:  Tasqueña, Universidad,Copilco,Coyoacán,Ermita... etc \n",
            "\n",
            "Introduce desde donde quieres  empezar (Recuerda los acentos y Mayuscula al Inicio) \n",
            "Tasqueña\n",
            "Introduce a que estación quieres llegar (Recuerda los acentos y Mayuscula al Inicio) \n",
            "Balbuena\n",
            "Tu ruta más corta será: ['Tasqueña', 'General Anaya', 'Ermita', 'Portales', 'Nativitas', 'Villa de Cortés', 'Xola', 'Viaducto', 'Chabacano', 'Jamaica', 'Fray Servando', 'Candelaria', 'San Lázaro', 'Moctezuma', 'Balbuena']\n",
            "Total de estaciones recorridas son: 15\n",
            "La distancia recorrida  de Tasqueña a Balbuena fue: 11296 metros\n"
          ],
          "name": "stdout"
        }
      ]
    },
    {
      "cell_type": "markdown",
      "metadata": {
        "id": "50Hvfk5ZrqbM"
      },
      "source": [
        "**GRAFICANDO LAS RUTAS**"
      ]
    },
    {
      "cell_type": "code",
      "metadata": {
        "colab": {
          "base_uri": "https://localhost:8080/",
          "height": 541
        },
        "id": "ExRr8D44rt7c",
        "outputId": "f418d840-bed0-4097-d6b4-8eda318a4335"
      },
      "source": [
        "print('Introduce con acentos correctos e iniciando con mayuscula.....´\\n')\r\n",
        "print('Ejemplo:  Tasqueña, Universidad,Copilco,Coyoacán,Ermita... etc \\n')\r\n",
        "origen_usuario=input(\"Introduce desde donde quieres  empezar (Recuerda los acentos y Mayuscula al Inicio) \\n\")\r\n",
        "destino_usuario=input('Introduce a que estación quieres llegar (Recuerda los acentos y Mayuscula al Inicio) \\n')\r\n",
        "\r\n",
        "djk_path= nx.dijkstra_path(Metro, source=origen_usuario , target=destino_usuario, weight='Longitud de interestación')\r\n",
        "## imprimimos la ruta más corta  \r\n",
        "print(f'Tu ruta más corta será:',djk_path)\r\n",
        "## imprimimos las estaciones recorridas\r\n",
        "estaciones_recorridas=len(djk_path)\r\n",
        "print(f'Total de estaciones recorridas son:',estaciones_recorridas )\r\n",
        "## imprimimos la distancia recorrida\r\n",
        "distancia_recorrida=nx.dijkstra_path_length(Metro, origen_usuario, destino_usuario, 'Longitud de interestación')\r\n",
        "print(f'La distancia recorrida  de', origen_usuario, 'a', destino_usuario, 'fue:', distancia_recorrida, 'metros')\r\n",
        "##graficamos la ruta\r\n",
        "ruta=Metro.subgraph(djk_path)\r\n",
        "nx.draw(ruta,with_labels=True)"
      ],
      "execution_count": null,
      "outputs": [
        {
          "output_type": "stream",
          "text": [
            "Introduce con acentos correctos e iniciando con mayuscula.....´\n",
            "\n",
            "Ejemplo:  Tasqueña, Universidad,Copilco,Coyoacán,Ermita... etc \n",
            "\n",
            "Introduce desde donde quieres  empezar (Recuerda los acentos y Mayuscula al Inicio) \n",
            "Tasqueña\n",
            "Introduce a que estación quieres llegar (Recuerda los acentos y Mayuscula al Inicio) \n",
            "Universidad\n",
            "Tu ruta más corta será: ['Tasqueña', 'General Anaya', 'Ermita', 'Eje Central', 'Parque de los Venados', 'Zapata', 'Coyoacán', 'Viveros/Derechos Humanos', 'Miguel Ángel de Quevedo', 'Copilco', 'Universidad']\n",
            "Total de estaciones recorridas son: 11\n",
            "La distancia recorrida  de Tasqueña a Universidad fue: 10392 metros\n"
          ],
          "name": "stdout"
        },
        {
          "output_type": "display_data",
          "data": {
            "image/png": "[encoded data removed]",
            "text/plain": [
              "<Figure size 432x288 with 1 Axes>"
            ]
          },
          "metadata": {
            "tags": []
          }
        }
      ]
    },
    {
      "cell_type": "markdown",
      "metadata": {
        "id": "Q5TKAW-H12i_"
      },
      "source": [
        "##PROBLEMA DE LA DIETA"
      ]
    },
    {
      "cell_type": "markdown",
      "metadata": {
        "id": "58kwpuX117BG"
      },
      "source": [
        "Este es un problema clasico de Investigación de Operaciones y averiguamos el como se veria este problema simulado en python\r\n",
        "\r\n",
        "\r\n",
        "Primero tenemos esta informacion de estos alimentos:\r\n",
        "\r\n",
        "| Alimento(100g) | Proteina(g) |  Calcio(g) | Calorias(g)|$ | \r\n",
        "| :-:  | :-: | :-: |  :-: | :-: |\r\n",
        "| Huevo  | 25.4 |0 |141| 6|\r\n",
        "| Frijoles  | 4.1 | 442 |71| 4|\r\n",
        "| Tortilla  | 5.7 | 81 |218| 1.5|\r\n",
        "| Espinacas  | 2.5| 100 |23| 1|\r\n",
        "| :-:  | :-: | :-: |  :-: | :-: |\r\n",
        "|  Restricciones | 158.4-258.4g| 1000-2500 g |2000-2200| |\r\n",
        "\r\n",
        "\r\n",
        "\r\n",
        "\r\n",
        "\r\n",
        "\r\n"
      ]
    },
    {
      "cell_type": "markdown",
      "metadata": {
        "id": "zkCYGkiT7LLI"
      },
      "source": [
        "Entonces definamos nuestras variables de la siguiente forma:\r\n",
        "\r\n",
        "$h:Huevo$\r\n",
        "\r\n",
        "$f:Frijoles$\r\n",
        "\r\n",
        "$t:tortillas$\r\n",
        "\r\n",
        "$e:espinacas$\r\n",
        "\r\n",
        "Entonces vamos a querer minimizar  una funcion w que seran los costos de cada cosa:\r\n",
        "\r\n",
        "\r\n",
        "$$Min\\quad w= 6h+4f+1.5t+1e$$\r\n",
        "\r\n",
        "Definimos nuestras restricciones:\r\n",
        "\r\n",
        "Mi restriccion por parte de proteinas:\r\n",
        "\r\n",
        "$$ 258.4 \\geq 25.4h + 4.1f+ 5.7t + 2.5e \\geq 158.4 $$\r\n",
        "\r\n",
        "Mi restriccion por parte de Calcio:\r\n",
        "\r\n",
        "$$ 2500 \\geq  0h+ 442f+ 81t+100e \\geq 1000$$\r\n",
        "\r\n",
        "Mi restriccion por parte de Calorias:\r\n",
        "\r\n",
        "$$2200 \\geq  141h+ 71f+ 218t+ 23e \\geq 2000 $$\r\n"
      ]
    },
    {
      "cell_type": "markdown",
      "metadata": {
        "id": "fL0VDRHJ9XpP"
      },
      "source": [
        "###SOLUCION"
      ]
    },
    {
      "cell_type": "code",
      "metadata": {
        "colab": {
          "base_uri": "https://localhost:8080/"
        },
        "id": "JlMaz6Pi9Zva",
        "outputId": "ecb6a360-b1ec-4baa-8147-bc1c5437e1db"
      },
      "source": [
        "!pip install pulp\r\n",
        "\r\n",
        "import pandas as np\r\n",
        "from pulp import *\r\n",
        "from pandas import DataFrame"
      ],
      "execution_count": null,
      "outputs": [
        {
          "output_type": "stream",
          "text": [
            "Collecting pulp\n",
            "\u001b[?25l  Downloading https://files.pythonhosted.org/packages/14/c4/0eec14a0123209c261de6ff154ef3be5cad3fd557c084f468356662e0585/PuLP-2.4-py3-none-any.whl (40.6MB)\n",
            "\u001b[K     |████████████████████████████████| 40.6MB 105kB/s \n",
            "\u001b[?25hCollecting amply>=0.1.2\n",
            "  Downloading https://files.pythonhosted.org/packages/f3/c5/dfa09dd2595a2ab2ab4e6fa7bebef9565812722e1980d04b0edce5032066/amply-0.1.4-py3-none-any.whl\n",
            "Requirement already satisfied: docutils>=0.3 in /usr/local/lib/python3.6/dist-packages (from amply>=0.1.2->pulp) (0.16)\n",
            "Requirement already satisfied: pyparsing in /usr/local/lib/python3.6/dist-packages (from amply>=0.1.2->pulp) (2.4.7)\n",
            "Installing collected packages: amply, pulp\n",
            "Successfully installed amply-0.1.4 pulp-2.4\n"
          ],
          "name": "stdout"
        }
      ]
    },
    {
      "cell_type": "code",
      "metadata": {
        "colab": {
          "base_uri": "https://localhost:8080/"
        },
        "id": "jmxvlwo59vEZ",
        "outputId": "849ce39c-2bd6-4ae0-cfbc-4955fc0aee63"
      },
      "source": [
        "### Creamos un Data frame con los datos y lo imprimimos\r\n",
        "df = DataFrame({'Alimentos':['huevo','frijoles','tortilla','espinacas'],'Proteina':[25.4,4.1,5.7,2.5],'Calcio':[0,442,81,100],'Calorias':[141,71,218,23],'Costo':[6,4,1.5,1]})\r\n",
        "df.head()\r\n",
        "\r\n",
        "#### Creamos un problema LP con LpProblem, usamos LpMinimize pues queremos minimizar la función con los costos\r\n",
        "problema = LpProblem(\"ProblemaDieta\",LpMinimize)\r\n",
        "\r\n",
        "### Creamos una lista con los alimentos\r\n",
        "alimentos = list(df['Alimentos'])\r\n",
        "\r\n",
        "### Creamos un diccionario con los costos\r\n",
        "costos = dict(zip(alimentos,df['Costo']))\r\n",
        "\r\n",
        "### Creamos un diccionario con las calorias\r\n",
        "calorias = dict(zip(alimentos,df['Calorias']))\r\n",
        "\r\n",
        "### Creamos un diccionario con los valores de calcio\r\n",
        "calcio = dict(zip(alimentos,df['Calcio']))\r\n",
        "\r\n",
        "### Creamos un diccionario con los valores de proteína\r\n",
        "proteina = dict(zip(alimentos,df['Proteina']))\r\n",
        "\r\n",
        "### Ponemos 0 ya que queremos valores >= 0 y 'Continuous' para regresernos valores reales o bien 'Integer' para valores enteros\r\n",
        "alimentos_vars = LpVariable.dicts(\"Alimentos\",alimentos,0,cat='Integer')\r\n",
        "\r\n",
        "### Función objetivo\r\n",
        "problema += lpSum([costos[i]*alimentos_vars[i] for i in alimentos]), \"Costo total de la dieta\"\r\n",
        "\r\n",
        "### Establecemos las restricciones de Calorías\r\n",
        "problema += lpSum([calorias[f] * alimentos_vars[f] for f in alimentos]) >= 2000.0, \"MínimoCalorías\"\r\n",
        "problema += lpSum([calorias[f] * alimentos_vars[f] for f in alimentos]) <= 2200.0, \"MáximoCalorías\"\r\n",
        "\r\n",
        "### Restricciones de proteínas\r\n",
        "problema += lpSum([proteina[f] * alimentos_vars[f] for f in alimentos]) >= 158.4, \"MínimoProteinas\"\r\n",
        "problema += lpSum([proteina[f] * alimentos_vars[f] for f in alimentos]) <= 258.4, \"MáximoProteinas\"\r\n",
        "\r\n",
        "### Restricciones de Calcio\r\n",
        "problema += lpSum([calcio[f] * alimentos_vars[f] for f in alimentos]) >= 1000.0, \"MinimoCalcio\"\r\n",
        "problema += lpSum([calcio[f] * alimentos_vars[f] for f in alimentos]) <= 2500.0, \"MaximoCalcio\"\r\n",
        "\r\n",
        "### Escribimos el problema en un archivo .lp\r\n",
        "problema.writeLP(\"SimpleDietProblem.lp\")\r\n",
        "\r\n",
        "### PuLP resuelve el problema con las restricciones dadas y la función objetivo.\r\n",
        "problema.solve()\r\n",
        "\r\n",
        "### Veamos si existe una solución y si ésta es óptima\r\n",
        "print(\"Status:\", LpStatus[problema.status])\r\n",
        "\r\n",
        "### Imprimimos la dieta\r\n",
        "print(\"La dieta balanceada óptima(menor costo), donde cada unidad equivale a 100g, consiste de\\n\"+\"-\"*110)\r\n",
        "for v in problema.variables():\r\n",
        "    if v.varValue>0:\r\n",
        "        print(v.name, \"=\", v.varValue)\r\n",
        "        \r\n",
        "### Imprimimos el costo\r\n",
        "print(\"El costo diario de la dieta es: ${}\".format(round(value(problema.objective),2)))"
      ],
      "execution_count": null,
      "outputs": [
        {
          "output_type": "stream",
          "text": [
            "Status: Optimal\n",
            "La dieta balanceada óptima(menor costo), donde cada unidad equivale a 100g, consiste de\n",
            "--------------------------------------------------------------------------------------------------------------\n",
            "Alimentos_espinacas = 10.0\n",
            "Alimentos_huevo = 4.0\n",
            "Alimentos_tortilla = 6.0\n",
            "El costo diario de la dieta es: $43.0\n"
          ],
          "name": "stdout"
        }
      ]
    },
    {
      "cell_type": "markdown",
      "metadata": {
        "id": "2lkIowTJ9h8V"
      },
      "source": [
        "##Problema de optimización(Metodo Simplex)"
      ]
    },
    {
      "cell_type": "markdown",
      "metadata": {
        "id": "cYphC4l_K_VG"
      },
      "source": [
        "Esto lo haremos con ayuda del metodo simplex y con el esquema de gastos que tiene la empresa.\r\n",
        "\r\n",
        "La empresa quiere maximizar sus Ingresos Netos que se ve reflejado mediante la siguiente funcion:\r\n",
        "\r\n",
        "$$w= X+ V-Y-R-S-G.....(INGRESOS \\quad NETOS)$$\r\n",
        "\r\n",
        "Y la empresa quiere tener el siguiente esquema de trabajo:\r\n",
        "\r\n",
        "$$X-3S-2Y-5R =  $150,000$$\r\n",
        "$$X+2V-2Y-3R-G\\geq  $100,000$$\r\n",
        "$$X-V-2S \\geq $75,000 $$\r\n",
        "$$ 3S + Y + R  +G  \\leq $50,000$$\r\n",
        "$$X-3V \\geq $30,000 $$\r\n",
        "$$X,V,S,Y,R,G \\geq 0$$\r\n",
        "\r\n",
        "donde :\r\n",
        "\r\n",
        "$X: Ingresos$\r\n",
        "\r\n",
        "$V:Ventas$\r\n",
        "\r\n",
        "$Y:Gastos \\quad de \\quad publicidad$\r\n",
        "\r\n",
        "$R:Gastos \\quad  por  \\quad servicios$\r\n",
        "\r\n",
        "$S:Sueldos \\quad de \\quad empleados$\r\n",
        "\r\n",
        "$G: Gastos \\quad de \\quad reparacion$"
      ]
    },
    {
      "cell_type": "markdown",
      "metadata": {
        "id": "oMFDUcWZLFac"
      },
      "source": [
        "###SOLUCION"
      ]
    },
    {
      "cell_type": "markdown",
      "metadata": {
        "id": "hurK6Nke6ezY"
      },
      "source": [
        "Bueno, lo que queremos es que se cumplan todas las restricciones dadas por la empresa y que se maximize w que es la funcion que modela los ingresos netos.\r\n",
        "\r\n",
        "Primero, para poder ocupar python, debemos ver que todas nuestras desigualdades sean $\\leq$ .\r\n",
        "\r\n",
        "Por eso cambiamos las que se observan que son mayores o iguales por menores iguales, multiplicando por un -1.\r\n",
        "\r\n",
        "Entonces nos queda:\r\n",
        "\r\n",
        "$$X-3S-2Y-5R =  $150,000$$\r\n",
        "$$-X-2V+2Y+3R+G\\leq  -$100,000$$\r\n",
        "$$-X+V+2S \\leq -$75,000 $$\r\n",
        "$$ 3S + Y + R  +G  \\leq $50,000$$\r\n",
        "$$-X+3V \\leq -$30,000 $$\r\n",
        "$$X,V,S,Y,R,G \\geq 0$$"
      ]
    },
    {
      "cell_type": "code",
      "metadata": {
        "colab": {
          "base_uri": "https://localhost:8080/"
        },
        "id": "o-cilEX55UAj",
        "outputId": "ca24ca30-7a8a-46f5-be71-4d7b988fa9a0"
      },
      "source": [
        "from scipy.optimize  import linprog\r\n",
        "\r\n",
        "## creamos nuestra lista de los coeficientes de nuestra función que queremos\r\n",
        "#maximizar, es decir los coeficientes de nuestra funcion w \r\n",
        "c=[1,1,-1,-1,-1,-1]\r\n",
        "\r\n",
        "## creamos  nuestra matriz de los coeficientes de todas las desigualdades\r\n",
        "## tener en cuenta que el orden de nuestro sistema es:\r\n",
        "## X,V,S,Y,R,G\r\n",
        "## LAS LETRAS QUE NO APARECEN LAS PONDREMOS CON COEFICIENTE CERO\r\n",
        "\r\n",
        "## ENTONCES CAPTURAMOS LOS DATOS DE NUESTRAS RESTRICCIONES O NUESTRO ESQUEMA DE TRABAJO\r\n",
        "A_ub=[[-1,-2,0,2,3,1],[-1,1,2,0,0,0],[0,0,2,1,1,1],[-1,3,0,0,0,0]]\r\n",
        "\r\n",
        "## Ahora capturamos los valores por los cuales estan acotados, es decir:\r\n",
        "\r\n",
        "b_ub=[-100000,-75000,50000,-30000]\r\n",
        "\r\n",
        "## ya que tenemos esto, ahora capturamos los coeficientes de nuestra igualdad en nuestro sistema\r\n",
        "A_igualdad=[[1,0,-3,-2,-5,0]]\r\n",
        "b_igualdad=[150000]\r\n",
        "\r\n",
        "##creamos nuestra variable donde guardaremos nuestro valor optimo\r\n",
        "##el parametro bounds es cuando definimos que todas nuestras variables que rango tienen\r\n",
        "## en este caso la empresa quiere que sean mayores iguales a cero entonces le ponemos bound=(0,None)\r\n",
        "optimo=linprog(c,A_ub,b_ub,A_igualdad,b_igualdad,bounds=(0,None))\r\n",
        "print(f'El valor optimo es:', optimo.fun, '\\n  X,V,S,Y,R,G=',optimo.x)\r\n",
        "\r\n"
      ],
      "execution_count": null,
      "outputs": [
        {
          "output_type": "stream",
          "text": [
            "El valor optimo es: 100000.0000006223 \n",
            "  X,V,S,Y,R,G= [1.50000000e+05 6.34789660e-09 9.23366831e-08 1.86919882e-07\n",
            " 8.57659982e-08 5.00000000e+04]\n"
          ],
          "name": "stdout"
        },
        {
          "output_type": "stream",
          "text": [
            "/usr/local/lib/python3.6/dist-packages/numpy/core/fromnumeric.py:87: VisibleDeprecationWarning: Creating an ndarray from ragged nested sequences (which is a list-or-tuple of lists-or-tuples-or ndarrays with different lengths or shapes) is deprecated. If you meant to do this, you must specify 'dtype=object' when creating the ndarray\n",
            "  return ufunc.reduce(obj, axis, dtype, out, **passkwargs)\n"
          ],
          "name": "stderr"
        }
      ]
    },
    {
      "cell_type": "code",
      "metadata": {
        "colab": {
          "base_uri": "https://localhost:8080/"
        },
        "id": "uirY_TeNCK7G",
        "outputId": "3193dbd2-08d3-4d4a-8cb4-3b11b2a62a72"
      },
      "source": [
        "## comprobamos que estos valores evaluados en la funcion w si nos de como resultado\r\n",
        "# nuestro valor optimo que es :100000.00000062231\r\n",
        "import matplotlib.pyplot as plt\r\n",
        "\r\n",
        "def w(x,v,y,r,s,g):\r\n",
        "   evaluar=x + v - y - r - s - g\r\n",
        "   return print(f'La funcion evaluada en estos puntos es:', evaluar)\r\n",
        "\r\n",
        "w(1.50000000e+05,6.34848438e-09,9.23429152e-08,1.86928453e-07,8.57701413e-08,5.00000000e+04)\r\n",
        "\r\n"
      ],
      "execution_count": null,
      "outputs": [
        {
          "output_type": "stream",
          "text": [
            "La funcion evaluada en estos puntos es: 99999.9999996413\n"
          ],
          "name": "stdout"
        }
      ]
    },
    {
      "cell_type": "markdown",
      "metadata": {
        "id": "ASVf2OLyAeXV"
      },
      "source": [
        "Lo que vemos es que  la empresa maximiza sus ganancias netas y con el sistema de  restricciones propuestas  cuando :\r\n",
        "\r\n",
        "$X=1.50000000e+05$\r\n",
        "\r\n",
        "$V=6.34848438e-09$\r\n",
        "\r\n",
        "$S=9.23429152e-08$\r\n",
        "\r\n",
        "$Y=1.86928453e-07$\r\n",
        "\r\n",
        "$R=8.57701413e-08$\r\n",
        "\r\n",
        "$G=5.00000000e+04$\r\n",
        "\r\n",
        "\r\n",
        "Si esto pasa entonces tenemos que:\r\n",
        "\r\n",
        "$$w= 100000.00000062231 $$\r\n",
        "\r\n",
        "\r\n",
        "Es decir que con estos valores la empresa cumple con cada una de las restricciones(desigualdes y la igualdad) y aparte es la que maximiza la función w que son nuestras ganancias netas.\r\n",
        "\r\n",
        "Para una empresa que apenas esta saliendo a flote y tengas estas metas es muy dificil pero podemos decir que se puede modificar el esquema de trabajo y las metas de la empresa para hacer que los numeros no sean tan elevados y seria aplicar el mismo proceso anterior.\r\n",
        "\r\n"
      ]
    },
    {
      "cell_type": "markdown",
      "metadata": {
        "id": "LgvC0DkISr-t"
      },
      "source": [
        "<div align=\"center\"><img src=\"https://github.com/IORIALE/RECURSOS-PROYECTO-NUMERICO/blob/main/reduccion-costos.jpeg?raw=1\" width=\"500\" > "
      ]
    },
    {
      "cell_type": "markdown",
      "metadata": {
        "id": "fG6SThz7Oldy"
      },
      "source": [
        "##PROBLEMA DE TRANSPORTE\r\n"
      ]
    },
    {
      "cell_type": "markdown",
      "metadata": {
        "id": "7LtqbjLmOodX"
      },
      "source": [
        "El problema de transporte consiste en envio de mercancias desde un origen hacia un destino\r\n",
        "\r\n",
        "Lo que queremos es minimizar el costo de estos envios pero teniendo como restricciones la capacidad de produccion de los origenes y la demanda de nuestros destinos.\r\n",
        "\r\n",
        "\r\n",
        "\r\n",
        "\r\n"
      ]
    },
    {
      "cell_type": "markdown",
      "metadata": {
        "id": "5mi2hRQDUo0e"
      },
      "source": [
        "<div align=\"center\"><img src=\"https://github.com/IORIALE/RECURSOS-IDO/blob/main/modelo%20de%20transporte.png?raw=1\" width=\"700\" > "
      ]
    },
    {
      "cell_type": "markdown",
      "metadata": {
        "id": "SfWUNJMKUnTH"
      },
      "source": [
        "PROBLEMA: (Problema 5.1 taha )\r\n",
        "\r\n",
        "MG Auto cuenta con tres plantas en Los Ángeles, Detroit y Nueva Orleáns, y dos importantes\r\n",
        "centros de distribución en Denver y Miami. Las capacidades trimestrales de las tres plantas son\r\n",
        "1000, 1500 y 1200 automóviles, y las demandas de los dos centros de distribución durante el mismo periodo son de 2300 y 1400 automóviles. La distancia en millas entre las plantas y los centros de distribución aparece en la siguiente tabla.\r\n",
        "\r\n",
        "$$Distancia \\quad en \\quad millas$$\r\n",
        "\r\n",
        "|  | Denver |  Miami| \r\n",
        "| :-:  | :-: | :-: | \r\n",
        "| Los Angeles  | 1000 |2690 |\r\n",
        "| Detroit  | 1250 | 1350 |\r\n",
        "| Nueva Orleans  | 1275 | 850 |\r\n",
        "\r\n",
        "\r\n",
        "La compañía transportista cobra 8 centavos por milla por automóvil. En la tabla 2  se dan\r\n",
        "los costos de transporte por automóvil en las diferentes rutas, redondeados al dólar más cercano.\r\n",
        "\r\n",
        "$$Costo\\quad transporte\\quad por\\quad automovil$$\r\n",
        "\r\n",
        "|  | Denver(1) |  Miami(2)| \r\n",
        "| :-:  | :-: | :-: | \r\n",
        "| Los Angeles(1)  | \\$80 | \\$215 |\r\n",
        "| Detroit(2)  | \\$100 | \\$108 |\r\n",
        "| Nueva Orleans(3)  | \\$102| \\$68 |"
      ]
    },
    {
      "cell_type": "markdown",
      "metadata": {
        "id": "oeDVxzcCS2lp"
      },
      "source": [
        "El modelo de PL del problema es\r\n",
        "\r\n",
        "$$Min \\quad z = 80 x_{11}+ 215x_{12}+100x_{21}+108x_{22}+102x_{31}+68x_{32}$$\r\n",
        "\r\n",
        "sujeto a:\r\n",
        "\r\n",
        "$$ x_{11}+x_{12}=1000(Los\\quad Angeles)$$\r\n",
        "$$x_{21}+x_{22}=1500(Detroit)$$\r\n",
        "$$x_{31}+x_{32}=1200(Nueva\\quad Orleans)$$\r\n",
        "$$x_{11}+x_{21}+x_{31}=2300(Denver)$$\r\n",
        "$$x_{12}+x_{22}+x_{32}=1400(Miami)$$\r\n",
        "\r\n",
        "$x_{ij} \\geq 0, i=1,2,3; j=1,2$\r\n"
      ]
    },
    {
      "cell_type": "markdown",
      "metadata": {
        "id": "HYJR_JGJVB7o"
      },
      "source": [
        "<div align=\"center\"><img src=\"https://github.com/IORIALE/RECURSOS-IDO/blob/main/ejemplotransporteido.png?raw=1\" width=\"400\" > "
      ]
    },
    {
      "cell_type": "markdown",
      "metadata": {
        "id": "hH60Tul2VNii"
      },
      "source": [
        "Donde podemos observar que esta balanceada, que quiere decir que:\r\n",
        "\r\n",
        "Sumando del lado de la OFERTA:\r\n",
        "\r\n",
        "$$1000+1500+1200=3700$$\r\n",
        "\r\n",
        "Sumando del lado de la DEMANDA:\r\n",
        "\r\n",
        "$$2300+1400=3700$$\r\n",
        "\r\n",
        "\r\n",
        "Es decir, suman lo mismo."
      ]
    },
    {
      "cell_type": "markdown",
      "metadata": {
        "id": "o8NEv8rGWkqB"
      },
      "source": [
        "###SOLUCION"
      ]
    },
    {
      "cell_type": "code",
      "metadata": {
        "colab": {
          "base_uri": "https://localhost:8080/"
        },
        "id": "lNvcEW4CWoJP",
        "outputId": "a9f1b6ef-7ff3-4783-9ed7-c3bf00b3d7b0"
      },
      "source": [
        "!pip install pulp  ## Esta es la biblioteca que se utiliza"
      ],
      "execution_count": null,
      "outputs": [
        {
          "output_type": "stream",
          "text": [
            "Requirement already satisfied: pulp in /usr/local/lib/python3.6/dist-packages (2.4)\n",
            "Requirement already satisfied: amply>=0.1.2 in /usr/local/lib/python3.6/dist-packages (from pulp) (0.1.4)\n",
            "Requirement already satisfied: docutils>=0.3 in /usr/local/lib/python3.6/dist-packages (from amply>=0.1.2->pulp) (0.16)\n",
            "Requirement already satisfied: pyparsing in /usr/local/lib/python3.6/dist-packages (from amply>=0.1.2->pulp) (2.4.7)\n"
          ],
          "name": "stdout"
        }
      ]
    },
    {
      "cell_type": "code",
      "metadata": {
        "id": "-D98YjKyWtAS"
      },
      "source": [
        "import pandas as np\r\n",
        "from pulp import *\r\n",
        "from pandas import DataFrame"
      ],
      "execution_count": null,
      "outputs": []
    },
    {
      "cell_type": "code",
      "metadata": {
        "id": "pHzv8PaVWyaX"
      },
      "source": [
        "## CAPTURAMOS LOS DATOS DEL PROBLEMA\r\n",
        "origen = ['LA','Detroit','New Orleans']\r\n",
        "destino = ['Denver','Miami']\r\n",
        "\r\n",
        "oferta = {'LA': 1000, 'Detroit' : 1500, 'New Orleans': 1200}\r\n",
        "demanda = {'Denver': 2300, 'Miami' : 1400}\r\n",
        "\r\n",
        "costo_envio ={'LA':{'Denver': 80, 'Miami' : 215},\r\n",
        "             'Detroit':{'Denver': 100, 'Miami' : 108},\r\n",
        "             'New Orleans': {'Denver': 102, 'Miami' : 68}}"
      ],
      "execution_count": null,
      "outputs": []
    },
    {
      "cell_type": "code",
      "metadata": {
        "id": "mr7uAj3hXEAu"
      },
      "source": [
        "##RESOLVEMOS EL PROBLEMA\r\n",
        "\r\n",
        "### Declaramos la función objetivo\r\n",
        "## buscamos minimizar el costo(LpMinimize)\r\n",
        "\r\n",
        "prob = LpProblem('Transporte', LpMinimize)\r\n",
        "\r\n",
        "## Trazamos nuestras rutas para cada origen-destino\r\n",
        "\r\n",
        "rutas = [(i,j) for i in origen for j in destino]\r\n",
        "\r\n",
        "##definimos la cantidad de envio del origen al destino\r\n",
        "\r\n",
        "cantidad = LpVariable.dicts('Cantidad de Envio',(origen,destino),0)\r\n",
        "\r\n",
        "## vamos a multiplicar la catidad ij de coches por el costo de envio\r\n",
        "# desde el origen i al destino j \r\n",
        "\r\n",
        "prob += lpSum(cantidad[i][j]*costo_envio[i][j] for (i,j) in rutas)\r\n",
        "\r\n"
      ],
      "execution_count": null,
      "outputs": []
    },
    {
      "cell_type": "code",
      "metadata": {
        "id": "w-dTpE-HX9Bl"
      },
      "source": [
        "## Ponemos las restricciones\r\n",
        "\r\n",
        "## primero queremos que la demanda se satisfaga\r\n",
        "for j in destino:\r\n",
        "    prob += lpSum(cantidad[i][j] for i in origen) == demanda[j]\r\n",
        "\r\n",
        "##Por otro lado queremos que la oferta se satisfaga\r\n",
        "\r\n",
        "for i in origen:\r\n",
        "    prob += lpSum(cantidad[i][j] for j in destino) <= oferta[i]"
      ],
      "execution_count": null,
      "outputs": []
    },
    {
      "cell_type": "code",
      "metadata": {
        "colab": {
          "base_uri": "https://localhost:8080/"
        },
        "id": "3YiZHr3mYSGq",
        "outputId": "f47bb40a-bb2d-4053-ac93-7d1053febb21"
      },
      "source": [
        "##Resolvemos  con solve e imprimimos el estatus\r\n",
        "## si el estatus es optimo entonces si tiene solución\r\n",
        "prob.solve()\r\n",
        "print(\"Status:\", LpStatus[prob.status])\r\n",
        "\r\n"
      ],
      "execution_count": null,
      "outputs": [
        {
          "output_type": "stream",
          "text": [
            "Status: Optimal\n"
          ],
          "name": "stdout"
        }
      ]
    },
    {
      "cell_type": "code",
      "metadata": {
        "colab": {
          "base_uri": "https://localhost:8080/"
        },
        "id": "lG-Cmbx-YkbU",
        "outputId": "295d3cc1-26fe-4622-ba35-ff684207009f"
      },
      "source": [
        "## Imprimimos la Solución\r\n",
        "### Imprimimos la solución\r\n",
        "for v in prob.variables():\r\n",
        "    if v.varValue > 0:\r\n",
        "        print(v.name, \"=\", v.varValue)\r\n",
        "print('El costo mínimo es:', value(prob.objective))"
      ],
      "execution_count": null,
      "outputs": [
        {
          "output_type": "stream",
          "text": [
            "Cantidad_de_Envio_Detroit_Denver = 1300.0\n",
            "Cantidad_de_Envio_Detroit_Miami = 200.0\n",
            "Cantidad_de_Envio_LA_Denver = 1000.0\n",
            "Cantidad_de_Envio_New_Orleans_Miami = 1200.0\n",
            "El costo mínimo es: 313200.0\n"
          ],
          "name": "stdout"
        }
      ]
    },
    {
      "cell_type": "markdown",
      "metadata": {
        "id": "6a--IBNpYvkF"
      },
      "source": [
        "$\\therefore$\r\n",
        "\r\n",
        "Cantidad de Envio de Detroit a Denver = 1300.0\r\n",
        "\r\n",
        "Cantidad de Envio de Detroit a Miami = 200.0\r\n",
        "\r\n",
        "Cantidad de Envio de LA a Denver = 1000.0\r\n",
        "\r\n",
        "Cantidad de Envio New Orleans a Miami = 1200.0\r\n",
        "\r\n",
        "**El costo mínimo es: 313200.0**"
      ]
    },
    {
      "cell_type": "markdown",
      "metadata": {
        "id": "jF2ulticbqne"
      },
      "source": [
        "#RESULTADOS\r\n",
        "\r\n"
      ]
    },
    {
      "cell_type": "markdown",
      "metadata": {
        "id": "UtOGwDyPbtME"
      },
      "source": [
        "Podemos decir que aun hay muchos ejemplos más con los cuales se pueden desarrollar con python pero es impresionante como es que las herramientas computacionales nos ayudan a mejorar dia con dia y a resolver problemas de este tipo.\r\n",
        "\r\n",
        "\r\n",
        "Siempre hay que estar al tanto de las capacidades de la tecnologia y en los principales avances del machine learning y Artificial Intelligence  que serán mejor recurso para poder simular estos procesos."
      ]
    }
  ]
}